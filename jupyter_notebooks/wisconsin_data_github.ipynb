{
  "nbformat": 4,
  "nbformat_minor": 0,
  "metadata": {
    "colab": {
      "name": "wisconsin_data_github.ipynb",
      "provenance": [],
      "collapsed_sections": []
    },
    "kernelspec": {
      "name": "python3",
      "display_name": "Python 3"
    },
    "language_info": {
      "name": "python"
    },
    "accelerator": "GPU"
  },
  "cells": [
    {
      "cell_type": "code",
      "metadata": {
        "id": "8ofv7QMcY4Xe"
      },
      "source": [
        "test_uri = \"https://raw.githubusercontent.com/mark-watson/cancer-deep-learning-model/master/test.csv\"\n",
        "train_uri = \"https://raw.githubusercontent.com/mark-watson/cancer-deep-learning-model/master/train.csv\"\n",
        "\n",
        "\n",
        "%load_ext tensorboard\n",
        "\n",
        "!pip install skimpy\n"
      ],
      "execution_count": null,
      "outputs": []
    },
    {
      "cell_type": "code",
      "metadata": {
        "id": "jN1hqqjzayEV"
      },
      "source": [
        "from keras.models import Sequential # Keras by default imports and uses Tensorflow\n",
        "from keras.layers import Dense, Dropout\n",
        "from keras import optimizers\n",
        "from keras.callbacks import TensorBoard\n",
        "import tensorflow as tf\n",
        "import pandas\n",
        "import os\n",
        "import datetime\n",
        "from skimpy import skim\n",
        "\n",
        "train_df = pandas.read_csv(train_uri, header=None)\n",
        "\n",
        "skim(train_df)\n",
        "\n",
        "train = train_df.values\n",
        "X_train = train[:,0:9].astype(float) # 9 inputs\n",
        "print(\"Number training examples:\", len(X_train))\n",
        "Y_train = train[:,-1].astype(float)  # one target output (0 for no cancer, 1 for malignant)\n",
        "test = pandas.read_csv(test_uri, header=None).values\n",
        "X_test = test[:,0:9].astype(float)\n",
        "Y_test = test[:,-1].astype(float)\n",
        "\n",
        "model = Sequential()\n",
        "model.add(Dense(tf.constant(15), input_dim=tf.constant(9), activation='relu'))\n",
        "model.add(Dense(tf.constant(15), input_dim=tf.constant(15), activation='relu'))\n",
        "model.add(Dropout(0.2)),\n",
        "model.add(Dense(tf.constant(1), activation='sigmoid'))\n",
        "model.summary()\n",
        "\n",
        "model.compile(optimizer='sgd',\n",
        "              loss='mse',\n",
        "              metrics=['accuracy'])\n",
        "\n",
        "logdir = os.path.join(\"logs\", datetime.datetime.now().strftime(\"%Y%m%d-%H%M%S\"))\n",
        "callbacks = [TensorBoard(log_dir=logdir,histogram_freq=1,write_graph=True, write_images=True)]\n",
        "\n",
        "\n",
        "model.fit(X_train, Y_train, batch_size=100, epochs=60, callbacks=callbacks)\n",
        "\n",
        "# no cancer and malignant test samples:\n",
        "y_predict = model.predict([[4,1,1,3,2,1,3,1,1], [3,7,7,4,4,9,4,8,1]])\n",
        "\n",
        "print(\"* y_predict (should be close to [[0], [1]]):\", y_predict)\n"
      ],
      "execution_count": null,
      "outputs": []
    },
    {
      "cell_type": "code",
      "source": [
        "# !pip install -U tensorboard-plugin-profile\n",
        "\n",
        "%tensorboard --logdir logs"
      ],
      "metadata": {
        "id": "RbUQ2AtBIor0"
      },
      "execution_count": null,
      "outputs": []
    }
  ]
}